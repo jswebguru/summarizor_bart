{
 "cells": [
  {
   "cell_type": "code",
   "execution_count": 1,
   "metadata": {},
   "outputs": [
    {
     "name": "stdout",
     "output_type": "stream",
     "text": [
      "/home/lily/an639/miniconda3/envs/st/bin/python\r\n"
     ]
    }
   ],
   "source": [
    "# use the next line to identify where the conda environment is, e.g., ~/miniconda3/envs/st/\n",
    "!which python"
   ]
  },
  {
   "cell_type": "code",
   "execution_count": 2,
   "metadata": {},
   "outputs": [
    {
     "name": "stdout",
     "output_type": "stream",
     "text": [
      "env: ROUGE_HOME=/home/lily/an639/miniconda3/envs/st/lib/python3.7/site-packages/summ_eval/ROUGE-1.5.5/\n"
     ]
    }
   ],
   "source": [
    "# set the ROUGE_HOME as the ROUGE installed location in your environment\n",
    "# e.g., ~/miniconda3/envs/st/lib/python3.7/site-packages/summ_eval/ROUGE-1.5.5/\n",
    "%env ROUGE_HOME=/home/lily/an639/miniconda3/envs/st/lib/python3.7/site-packages/summ_eval/ROUGE-1.5.5/"
   ]
  },
  {
   "cell_type": "code",
   "execution_count": 3,
   "metadata": {},
   "outputs": [],
   "source": [
    "import model as st_model\n",
    "import dataset.stdatasets as st_data\n",
    "import eval as st_eval"
   ]
  },
  {
   "cell_type": "markdown",
   "metadata": {},
   "source": [
    "# Models"
   ]
  },
  {
   "cell_type": "code",
   "execution_count": 4,
   "metadata": {},
   "outputs": [],
   "source": [
    "# Users can load a default summarization model\n",
    "model = st_model.summarizer()\n",
    "\n",
    "# Or a specific model\n",
    "pegasus = st_model.pegasus()"
   ]
  },
  {
   "cell_type": "markdown",
   "metadata": {},
   "source": [
    "### Model selection"
   ]
  },
  {
   "cell_type": "code",
   "execution_count": 5,
   "metadata": {},
   "outputs": [
    {
     "name": "stdout",
     "output_type": "stream",
     "text": [
      "Pegasus is the default singe-document summarization model.\n",
      "Introduced in 2019, a large neural abstractive summarization model trained on web crawl and news data.\n",
      " Strengths: \n",
      " - High accuracy \n",
      " - Performs well on almost all kinds of non-literary written text \n",
      " Weaknesses: \n",
      " - High memory usage \n",
      " Initialization arguments: \n",
      " - `device = 'cpu'` specifies the device the model is stored on and uses for computation. Use `device='gpu'` to run on an Nvidia GPU.\n"
     ]
    }
   ],
   "source": [
    "# Users can easily access documentation to assist with model selection\n",
    "model.show_capability()"
   ]
  },
  {
   "cell_type": "markdown",
   "metadata": {},
   "source": [
    "### Inference"
   ]
  },
  {
   "cell_type": "code",
   "execution_count": 6,
   "metadata": {},
   "outputs": [
    {
     "data": {
      "text/plain": [
       "[\"California's largest electricity provider has turned off power to hundreds of thousands of customers.\"]"
      ]
     },
     "execution_count": 6,
     "metadata": {},
     "output_type": "execute_result"
    }
   ],
   "source": [
    "documents = [\n",
    "    \"\"\" PG&E stated it scheduled the blackouts in response to forecasts for high winds amid dry conditions. \n",
    "    The aim is to reduce the risk of wildfires. Nearly 800 thousand customers were scheduled to be affected \n",
    "    by the shutoffs which were expected to last through at least midday tomorrow.\"\"\"\n",
    "]\n",
    "\n",
    "model.summarize(documents)"
   ]
  },
  {
   "cell_type": "markdown",
   "metadata": {},
   "source": [
    "# Datasets"
   ]
  },
  {
   "cell_type": "code",
   "execution_count": 7,
   "metadata": {},
   "outputs": [
    {
     "name": "stderr",
     "output_type": "stream",
     "text": [
      "Reusing dataset cnn_dailymail (/home/lily/an639/.cache/huggingface/datasets/cnn_dailymail/3.0.0/3.0.0/3cb851bf7cf5826e45d49db2863f627cba583cbc32342df7349dfe6c38060234)\n"
     ]
    }
   ],
   "source": [
    "cnn_dataset = st_data.load_dataset('cnn_dailymail', '3.0.0')"
   ]
  },
  {
   "cell_type": "code",
   "execution_count": 8,
   "metadata": {},
   "outputs": [
    {
     "data": {
      "text/plain": [
       "'Syrian official: Obama climbed to the top of the tree, \"doesn\\'t know how to get down\"\\nObama sends a letter to the heads of the House and Senate .\\nObama to seek congressional approval on military action against Syria .\\nAim is to determine whether CW were used, not by whom, says U.N. spokesman .'"
      ]
     },
     "execution_count": 8,
     "metadata": {},
     "output_type": "execute_result"
    }
   ],
   "source": [
    "cnn_dataset['train']['highlights'][0]"
   ]
  },
  {
   "cell_type": "markdown",
   "metadata": {},
   "source": [
    "### A non-neural model\n",
    "Below we train an unsupervised non-neural summarizer with a subset of the cnn_dailymail dataset: "
   ]
  },
  {
   "cell_type": "code",
   "execution_count": 9,
   "metadata": {},
   "outputs": [],
   "source": [
    "corpus = cnn_dataset['train']['article'][0:5]\n",
    "\n",
    "trad_model = st_model.lex_rank(corpus)"
   ]
  },
  {
   "cell_type": "code",
   "execution_count": 10,
   "metadata": {},
   "outputs": [
    {
     "name": "stdout",
     "output_type": "stream",
     "text": [
      "['(CNN)James Best, best known for his portrayal of bumbling sheriff Rosco P. Coltrane on TV\\'s \"The Dukes of Hazzard,\" died Monday after a brief illness. He was 88. Best died in hospice in Hickory, North Carolina, of complications from pneumonia, said Steve Latshaw, a longtime friend and Hollywood colleague. Although he\\'d been a busy actor for decades in theater and in Hollywood, Best didn\\'t become famous until 1979, when \"The Dukes of Hazzard\\'s\" cornpone charms began beaming into millions of American homes almost every Friday night. For seven seasons, Best\\'s Rosco P. Coltrane chased the moonshine-running Duke boys back and forth across the back roads of fictitious Hazzard County, Georgia, although his \"hot pursuit\" usually ended with him crashing his patrol car. Although Rosco was slow-witted and corrupt, Best gave him a childlike enthusiasm that got laughs and made him endearing. His character became known for his distinctive \"kew-kew-kew\" chuckle and for goofy catchphrases such as \"cuff \\'em and stuff \\'em!\" upon making an arrest. Among the most popular shows on TV in the early \\'80s, \"The Dukes of Hazzard\" ran until 1985 and spawned TV movies, an animated series and video games. Several of Best\\'s \"Hazzard\" co-stars paid tribute to the late actor on social media. \"I laughed and learned more from Jimmie in one hour than from anyone else in a whole year,\" co-star John Schneider, who played Bo Duke, said on Twitter. \"Give Uncle Jesse my love when you see him dear friend.\" \"Jimmy Best was the most constantly creative person I have ever known,\" said Ben Jones, who played mechanic Cooter on the show, in a Facebook post. \"Every minute of his long life was spent acting, writing, producing, painting, teaching, fishing, or involved in another of his life\\'s many passions.\" Born Jewel Guy on July 26, 1926, in Powderly, Kentucky, Best was orphaned at 3 and adopted by Armen and Essa Best, who renamed him James and raised him in rural Indiana. Best served in the Army during World War II before launching his acting career. In the 1950s and 1960s, he accumulated scores of credits, playing a range of colorful supporting characters in such TV shows as \"The Twilight Zone,\" \"Bonanza,\" \"The Andy Griffith Show\" and \"Gunsmoke.\" He later appeared in a handful of Burt Reynolds\\' movies, including \"Hooper\" and \"The End.\" But Best will always be best known for his \"Hazzard\" role, which lives on in reruns. \"Jimmie was my teacher, mentor, close friend and collaborator for 26 years,\" Latshaw said. \"I directed two of his feature films, including the recent \\'Return of the Killer Shrews,\\' a sequel he co-wrote and was quite proud of as he had made the first one more than 50 years earlier.\" People we\\'ve lost in 2015 . CNN\\'s Stella Chan contributed to this story.']\n"
     ]
    },
    {
     "data": {
      "text/plain": [
       "[['(CNN)James Best, best known for his portrayal of bumbling sheriff Rosco P. Coltrane on TV\\'s \"The Dukes of Hazzard,\" died Monday after a brief illness.',\n",
       "  'Among the most popular shows on TV in the early \\'80s, \"The Dukes of Hazzard\" ran until 1985 and spawned TV movies, an animated series and video games.']]"
      ]
     },
     "execution_count": 10,
     "metadata": {},
     "output_type": "execute_result"
    }
   ],
   "source": [
    "# Inference\n",
    "text = cnn_dataset['test']['article'][0:1]\n",
    "print(text)\n",
    "\n",
    "trad_model.summarize(text)"
   ]
  },
  {
   "cell_type": "code",
   "execution_count": 11,
   "metadata": {},
   "outputs": [
    {
     "name": "stdout",
     "output_type": "stream",
     "text": [
      "A non-neural model for extractive summarization. \n",
      " Works by using a graph-based method to identify the most salient sentences in the document. \n",
      " Strengths: \n",
      " - Fast with low memory usage \n",
      " - Allows for control of summary length \n",
      " Weaknesses: \n",
      " - Not as accurate as neural methods. \n",
      " Initialization arguments: \n",
      " - `corpus`: Unlabelled corpus of documents. ` \n",
      " - `summary_length`: sentence length of summaries \n",
      " - `threshold`: Level of salience required for sentence to be included in summary.\n"
     ]
    }
   ],
   "source": [
    "# More about lexrank\n",
    "\n",
    "trad_model.show_capability()"
   ]
  },
  {
   "cell_type": "markdown",
   "metadata": {},
   "source": [
    "A spaCy pipeline for TextRank (another non-neueral extractive summarization model)"
   ]
  },
  {
   "cell_type": "code",
   "execution_count": 12,
   "metadata": {},
   "outputs": [],
   "source": [
    "# TextRank model\n",
    "textrank = st_model.text_rank()"
   ]
  },
  {
   "cell_type": "code",
   "execution_count": 13,
   "metadata": {},
   "outputs": [
    {
     "data": {
      "text/plain": [
       "['For seven seasons, Best\\'s Rosco P. Coltrane chased the moonshine-running Duke boys back and forth across the back roads of fictitious Hazzard County, Georgia, although his \"hot pursuit\" usually ended with him crashing his patrol car.']"
      ]
     },
     "execution_count": 13,
     "metadata": {},
     "output_type": "execute_result"
    }
   ],
   "source": [
    "textrank.summarize(text[0])"
   ]
  },
  {
   "cell_type": "code",
   "execution_count": 14,
   "metadata": {},
   "outputs": [
    {
     "name": "stdout",
     "output_type": "stream",
     "text": [
      "A graphbased ranking model for text processing. Extractive sentence summarization. \n",
      " Strengths: \n",
      " - Fast with low memory usage \n",
      " - Allows for control of summary length \n",
      " Weaknesses: \n",
      " - Not as accurate as neural methods.\n"
     ]
    }
   ],
   "source": [
    "# More about TextRank\n",
    "textrank.show_capability()"
   ]
  },
  {
   "cell_type": "markdown",
   "metadata": {},
   "source": [
    "# Evaluation"
   ]
  },
  {
   "cell_type": "code",
   "execution_count": 15,
   "metadata": {},
   "outputs": [
    {
     "name": "stderr",
     "output_type": "stream",
     "text": [
      "2021-05-24 19:55:21,463 [MainThread  ] [INFO ]  Set ROUGE home directory to /home/lily/an639/miniconda3/envs/st/lib/python3.7/site-packages/summ_eval/ROUGE-1.5.5/.\n",
      "2021-05-24 19:55:55,325 [MainThread  ] [INFO ]  Writing summaries.\n",
      "2021-05-24 19:55:55,329 [MainThread  ] [INFO ]  Processing summaries. Saving system files to /tmp/tmpd9isd83_/system and model files to /tmp/tmpd9isd83_/model.\n",
      "2021-05-24 19:55:55,330 [MainThread  ] [INFO ]  Processing files in /tmp/tmp1meklvkm.\n",
      "2021-05-24 19:55:55,332 [MainThread  ] [INFO ]  Processing system.2.txt.\n",
      "2021-05-24 19:55:55,335 [MainThread  ] [INFO ]  Processing system.3.txt.\n",
      "2021-05-24 19:55:55,337 [MainThread  ] [INFO ]  Processing system.0.txt.\n",
      "2021-05-24 19:55:55,339 [MainThread  ] [INFO ]  Processing system.1.txt.\n",
      "2021-05-24 19:55:55,341 [MainThread  ] [INFO ]  Processing system.4.txt.\n",
      "2021-05-24 19:55:55,343 [MainThread  ] [INFO ]  Saved processed files to /tmp/tmpd9isd83_/system.\n",
      "2021-05-24 19:55:55,344 [MainThread  ] [INFO ]  Processing files in /tmp/tmpbex5mx3j.\n",
      "2021-05-24 19:55:55,346 [MainThread  ] [INFO ]  Processing model.A.0.txt.\n",
      "2021-05-24 19:55:55,349 [MainThread  ] [INFO ]  Processing model.A.4.txt.\n",
      "2021-05-24 19:55:55,351 [MainThread  ] [INFO ]  Processing model.A.3.txt.\n",
      "2021-05-24 19:55:55,353 [MainThread  ] [INFO ]  Processing model.A.1.txt.\n",
      "2021-05-24 19:55:55,354 [MainThread  ] [INFO ]  Processing model.A.2.txt.\n",
      "2021-05-24 19:55:55,356 [MainThread  ] [INFO ]  Saved processed files to /tmp/tmpd9isd83_/model.\n",
      "2021-05-24 19:55:55,360 [MainThread  ] [INFO ]  Written ROUGE configuration to /tmp/tmpictnwnbt/rouge_conf.xml\n",
      "2021-05-24 19:55:55,361 [MainThread  ] [INFO ]  Running ROUGE with command /home/lily/an639/miniconda3/envs/st/lib/python3.7/site-packages/summ_eval/ROUGE-1.5.5/ROUGE-1.5.5.pl -e /home/lily/an639/miniconda3/envs/st/lib/python3.7/site-packages/summ_eval/ROUGE-1.5.5/data -c 95 -2 -1 -U -r 1000 -n 4 -w 1.2 -a -m /tmp/tmpictnwnbt/rouge_conf.xml\n"
     ]
    }
   ],
   "source": [
    "# Initializes a rouge metric object\n",
    "metric = st_eval.rouge()\n",
    "\n",
    "# Evaluates model on subset of cnn_dailymail\n",
    "# Stores various versions of rouge as an object variable\n",
    "metric.evaluate(model, cnn_dataset['test'][0:5]);"
   ]
  },
  {
   "cell_type": "code",
   "execution_count": 16,
   "metadata": {},
   "outputs": [
    {
     "data": {
      "text/plain": [
       "{'rouge_1_f_score': 0.3299,\n",
       " 'rouge_2_f_score': 0.20966,\n",
       " 'rouge_l_f_score': 0.31402}"
      ]
     },
     "execution_count": 16,
     "metadata": {},
     "output_type": "execute_result"
    }
   ],
   "source": [
    "# Retrieve rouge f-scores. \n",
    "metric.get_dict(['rouge_1_f_score', 'rouge_2_f_score', 'rouge_l_f_score'])"
   ]
  },
  {
   "cell_type": "code",
   "execution_count": null,
   "metadata": {},
   "outputs": [],
   "source": []
  }
 ],
 "metadata": {
  "kernelspec": {
   "display_name": "Python 3",
   "language": "python",
   "name": "python3"
  },
  "language_info": {
   "codemirror_mode": {
    "name": "ipython",
    "version": 3
   },
   "file_extension": ".py",
   "mimetype": "text/x-python",
   "name": "python",
   "nbconvert_exporter": "python",
   "pygments_lexer": "ipython3",
   "version": "3.7.10"
  }
 },
 "nbformat": 4,
 "nbformat_minor": 4
}
