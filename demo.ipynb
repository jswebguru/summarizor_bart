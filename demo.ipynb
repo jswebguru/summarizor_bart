{
 "cells": [
  {
   "cell_type": "code",
   "execution_count": 1,
   "metadata": {
    "pycharm": {
     "is_executing": false
    }
   },
   "outputs": [
    {
     "name": "stdout",
     "output_type": "stream",
     "text": [
      "/home/lily/ttf5/miniconda3/bin/python\r\n"
     ]
    }
   ],
   "source": [
    "# use the next line to identify where the conda environment is, e.g., ~/miniconda3/envs/st/\n",
    "!which python"
   ]
  },
  {
   "cell_type": "code",
   "execution_count": 2,
   "metadata": {
    "pycharm": {
     "is_executing": false
    }
   },
   "outputs": [
    {
     "name": "stdout",
     "output_type": "stream",
     "text": [
      "env: ROUGE_HOME=/home/lily/ttf5/miniconda3/lib/python3.9/site-packages/summ_eval/ROUGE-1.5.5/\n"
     ]
    }
   ],
   "source": [
    "# set the ROUGE_HOME as the ROUGE installed location in your environment\n",
    "# e.g., ~/miniconda3/envs/st/lib/python3.7/site-packages/summ_eval/ROUGE-1.5.5/\n",
    "%env ROUGE_HOME=/home/lily/ttf5/miniconda3/lib/python3.9/site-packages/summ_eval/ROUGE-1.5.5/"
   ]
  },
  {
   "cell_type": "code",
   "execution_count": 3,
   "metadata": {
    "pycharm": {
     "is_executing": false
    }
   },
   "outputs": [
    {
     "name": "stdout",
     "output_type": "stream",
     "text": [
      "Downloading the embeddings; this may take a while\n"
     ]
    }
   ],
   "source": [
    "import model as st_model\n",
    "import dataset.st_dataset as st_data\n",
    "import eval as st_eval"
   ]
  },
  {
   "cell_type": "markdown",
   "metadata": {},
   "source": [
    "# Models"
   ]
  },
  {
   "cell_type": "code",
   "execution_count": 4,
   "metadata": {
    "pycharm": {
     "is_executing": false
    }
   },
   "outputs": [],
   "source": [
    "# Users can load a default summarization model\n",
    "model = st_model.summarizer()\n",
    "\n",
    "# Or a specific model\n",
    "pegasus = st_model.pegasus_model.PegasusModel()"
   ]
  },
  {
   "cell_type": "markdown",
   "metadata": {},
   "source": [
    "### Model selection"
   ]
  },
  {
   "cell_type": "code",
   "execution_count": 5,
   "metadata": {
    "pycharm": {
     "is_executing": false
    }
   },
   "outputs": [
    {
     "name": "stdout",
     "output_type": "stream",
     "text": [
      "Pegasus is the default singe-document summarization model.\n",
      "Pegasus is a abstractive, neural model for summarization. \n",
      " #################### \n",
      " Introduced in 2019, a large neural abstractive summarization model trained on web crawl and news data.\n",
      " Strengths: \n",
      " - High accuracy \n",
      " - Performs well on almost all kinds of non-literary written text \n",
      " Weaknesses: \n",
      " - High memory usage \n",
      " Initialization arguments: \n",
      " - `device = 'cpu'` specifies the device the model is stored on and uses for computation. Use `device='gpu'` to run on an Nvidia GPU.\n"
     ]
    }
   ],
   "source": [
    "# Users can easily access documentation to assist with model selection\n",
    "model.show_capability()"
   ]
  },
  {
   "cell_type": "markdown",
   "metadata": {},
   "source": [
    "### Inference"
   ]
  },
  {
   "cell_type": "code",
   "execution_count": 6,
   "metadata": {
    "pycharm": {
     "is_executing": false
    }
   },
   "outputs": [
    {
     "data": {
      "text/plain": [
       "[\"California's largest electricity provider has turned off power to hundreds of thousands of customers.\"]"
      ]
     },
     "execution_count": 6,
     "metadata": {},
     "output_type": "execute_result"
    }
   ],
   "source": [
    "documents = [\n",
    "    \"\"\" PG&E stated it scheduled the blackouts in response to forecasts for high winds amid dry conditions. \n",
    "    The aim is to reduce the risk of wildfires. Nearly 800 thousand customers were scheduled to be affected \n",
    "    by the shutoffs which were expected to last through at least midday tomorrow.\"\"\"\n",
    "]\n",
    "\n",
    "model.summarize(documents)"
   ]
  },
  {
   "cell_type": "markdown",
   "metadata": {},
   "source": [
    "# Datasets"
   ]
  },
  {
   "cell_type": "code",
   "execution_count": 7,
   "metadata": {
    "pycharm": {
     "is_executing": false
    }
   },
   "outputs": [
    {
     "name": "stderr",
     "output_type": "stream",
     "text": [
      "Reusing dataset cnn_dailymail (/home/lily/ttf5/.cache/huggingface/datasets/cnn_dailymail/3.0.0/3.0.0/3cb851bf7cf5826e45d49db2863f627cba583cbc32342df7349dfe6c38060234)\n"
     ]
    }
   ],
   "source": [
    "cnn_dataset = st_data.load_dataset('cnn_dailymail', '3.0.0')"
   ]
  },
  {
   "cell_type": "code",
   "execution_count": 8,
   "metadata": {
    "pycharm": {
     "is_executing": false
    }
   },
   "outputs": [
    {
     "data": {
      "text/plain": [
       "'Syrian official: Obama climbed to the top of the tree, \"doesn\\'t know how to get down\"\\nObama sends a letter to the heads of the House and Senate .\\nObama to seek congressional approval on military action against Syria .\\nAim is to determine whether CW were used, not by whom, says U.N. spokesman .'"
      ]
     },
     "execution_count": 8,
     "metadata": {},
     "output_type": "execute_result"
    }
   ],
   "source": [
    "cnn_dataset['train']['highlights'][0]"
   ]
  },
  {
   "cell_type": "markdown",
   "metadata": {},
   "source": [
    "### A non-neural model\n",
    "Below we train an unsupervised non-neural summarizer with a subset of the cnn_dailymail dataset: "
   ]
  },
  {
   "cell_type": "code",
   "execution_count": 9,
   "metadata": {
    "pycharm": {
     "is_executing": false
    }
   },
   "outputs": [],
   "source": [
    "corpus = cnn_dataset['train']['article'][0:5]\n",
    "\n",
    "trad_model = st_model.lexrank_model.LexRankModel(corpus)"
   ]
  },
  {
   "cell_type": "code",
   "execution_count": 10,
   "metadata": {
    "pycharm": {
     "is_executing": false
    }
   },
   "outputs": [
    {
     "name": "stdout",
     "output_type": "stream",
     "text": [
      "['(CNN)James Best, best known for his portrayal of bumbling sheriff Rosco P. Coltrane on TV\\'s \"The Dukes of Hazzard,\" died Monday after a brief illness. He was 88. Best died in hospice in Hickory, North Carolina, of complications from pneumonia, said Steve Latshaw, a longtime friend and Hollywood colleague. Although he\\'d been a busy actor for decades in theater and in Hollywood, Best didn\\'t become famous until 1979, when \"The Dukes of Hazzard\\'s\" cornpone charms began beaming into millions of American homes almost every Friday night. For seven seasons, Best\\'s Rosco P. Coltrane chased the moonshine-running Duke boys back and forth across the back roads of fictitious Hazzard County, Georgia, although his \"hot pursuit\" usually ended with him crashing his patrol car. Although Rosco was slow-witted and corrupt, Best gave him a childlike enthusiasm that got laughs and made him endearing. His character became known for his distinctive \"kew-kew-kew\" chuckle and for goofy catchphrases such as \"cuff \\'em and stuff \\'em!\" upon making an arrest. Among the most popular shows on TV in the early \\'80s, \"The Dukes of Hazzard\" ran until 1985 and spawned TV movies, an animated series and video games. Several of Best\\'s \"Hazzard\" co-stars paid tribute to the late actor on social media. \"I laughed and learned more from Jimmie in one hour than from anyone else in a whole year,\" co-star John Schneider, who played Bo Duke, said on Twitter. \"Give Uncle Jesse my love when you see him dear friend.\" \"Jimmy Best was the most constantly creative person I have ever known,\" said Ben Jones, who played mechanic Cooter on the show, in a Facebook post. \"Every minute of his long life was spent acting, writing, producing, painting, teaching, fishing, or involved in another of his life\\'s many passions.\" Born Jewel Guy on July 26, 1926, in Powderly, Kentucky, Best was orphaned at 3 and adopted by Armen and Essa Best, who renamed him James and raised him in rural Indiana. Best served in the Army during World War II before launching his acting career. In the 1950s and 1960s, he accumulated scores of credits, playing a range of colorful supporting characters in such TV shows as \"The Twilight Zone,\" \"Bonanza,\" \"The Andy Griffith Show\" and \"Gunsmoke.\" He later appeared in a handful of Burt Reynolds\\' movies, including \"Hooper\" and \"The End.\" But Best will always be best known for his \"Hazzard\" role, which lives on in reruns. \"Jimmie was my teacher, mentor, close friend and collaborator for 26 years,\" Latshaw said. \"I directed two of his feature films, including the recent \\'Return of the Killer Shrews,\\' a sequel he co-wrote and was quite proud of as he had made the first one more than 50 years earlier.\" People we\\'ve lost in 2015 . CNN\\'s Stella Chan contributed to this story.']\n"
     ]
    },
    {
     "data": {
      "text/plain": [
       "[['(CNN)James Best, best known for his portrayal of bumbling sheriff Rosco P. Coltrane on TV\\'s \"The Dukes of Hazzard,\" died Monday after a brief illness.',\n",
       "  'Among the most popular shows on TV in the early \\'80s, \"The Dukes of Hazzard\" ran until 1985 and spawned TV movies, an animated series and video games.']]"
      ]
     },
     "execution_count": 10,
     "metadata": {},
     "output_type": "execute_result"
    }
   ],
   "source": [
    "# Inference\n",
    "text = cnn_dataset['test']['article'][0:1]\n",
    "print(text)\n",
    "\n",
    "trad_model.summarize(text)"
   ]
  },
  {
   "cell_type": "code",
   "execution_count": 11,
   "metadata": {
    "pycharm": {
     "is_executing": false
    }
   },
   "outputs": [
    {
     "name": "stdout",
     "output_type": "stream",
     "text": [
      "LexRank is a extractive, non-neural model for summarization. \n",
      " #################### \n",
      " Works by using a graph-based method to identify the most salient sentences in the document. \n",
      "Strengths: \n",
      " - Fast with low memory usage \n",
      " - Allows for control of summary length \n",
      " Weaknesses: \n",
      " - Not as accurate as neural methods. \n",
      " Initialization arguments: \n",
      " - `corpus`: Unlabelled corpus of documents. ` \n",
      " - `summary_length`: sentence length of summaries \n",
      " - `threshold`: Level of salience required for sentence to be included in summary.\n"
     ]
    }
   ],
   "source": [
    "# More about lexrank\n",
    "\n",
    "trad_model.show_capability()"
   ]
  },
  {
   "cell_type": "markdown",
   "metadata": {},
   "source": [
    "A spaCy pipeline for TextRank (another non-neueral extractive summarization model)"
   ]
  },
  {
   "cell_type": "code",
   "execution_count": 12,
   "metadata": {
    "pycharm": {
     "is_executing": false
    }
   },
   "outputs": [],
   "source": [
    "# TextRank model\n",
    "textrank = st_model.textrank_model.TextRankModel()"
   ]
  },
  {
   "cell_type": "code",
   "execution_count": 13,
   "metadata": {
    "pycharm": {
     "is_executing": false
    }
   },
   "outputs": [
    {
     "data": {
      "text/plain": [
       "['For seven seasons, Best\\'s Rosco P. Coltrane chased the moonshine-running Duke boys back and forth across the back roads of fictitious Hazzard County, Georgia, although his \"hot pursuit\" usually ended with him crashing his patrol car.']"
      ]
     },
     "execution_count": 13,
     "metadata": {},
     "output_type": "execute_result"
    }
   ],
   "source": [
    "textrank.summarize(text[0:1])"
   ]
  },
  {
   "cell_type": "code",
   "execution_count": 14,
   "metadata": {
    "pycharm": {
     "is_executing": false
    }
   },
   "outputs": [
    {
     "name": "stdout",
     "output_type": "stream",
     "text": [
      "TextRank is a extractive, non-neural model for summarization. \n",
      " #################### \n",
      " A graphbased ranking model for text processing. Extractive sentence summarization. \n",
      " Strengths: \n",
      " - Fast with low memory usage \n",
      " - Allows for control of summary length \n",
      " Weaknesses: \n",
      " - Not as accurate as neural methods.\n"
     ]
    }
   ],
   "source": [
    "# More about TextRank\n",
    "textrank.show_capability()"
   ]
  },
  {
   "cell_type": "code",
   "execution_count": null,
   "metadata": {},
   "outputs": [
    {
     "data": {
      "application/vnd.jupyter.widget-view+json": {
       "model_id": "fc81621f98084bd981b25d8461439c22",
       "version_major": 2,
       "version_minor": 0
      },
      "text/plain": [
       "HBox(children=(FloatProgress(value=0.0, description='Downloading', max=3517.0, style=ProgressStyle(description…"
      ]
     },
     "metadata": {},
     "output_type": "display_data"
    },
    {
     "name": "stderr",
     "output_type": "stream",
     "text": [
      "You are using a model of type encoder_decoder to instantiate a model of type encoder-decoder. This is not supported for all configurations of models and can yield errors.\n"
     ]
    },
    {
     "name": "stdout",
     "output_type": "stream",
     "text": [
      "\n"
     ]
    },
    {
     "data": {
      "application/vnd.jupyter.widget-view+json": {
       "model_id": "c113e769c894429b86c5ef71d31c0a01",
       "version_major": 2,
       "version_minor": 0
      },
      "text/plain": [
       "HBox(children=(FloatProgress(value=0.0, description='Downloading', max=1209554860.0, style=ProgressStyle(descr…"
      ]
     },
     "metadata": {},
     "output_type": "display_data"
    },
    {
     "name": "stdout",
     "output_type": "stream",
     "text": [
      "\n"
     ]
    }
   ],
   "source": [
    "# Longformer2Roberta\n",
    "longformer = st_model.longformer_model.LongformerModel()"
   ]
  },
  {
   "cell_type": "code",
   "execution_count": 18,
   "metadata": {},
   "outputs": [],
   "source": [
    "long_article = \"\"\"(CNN)James Holmes made his introduction to the world in a Colorado cinema filled with spectators watching a midnight showing of the new Batman movie, \"The Dark Knight Rises,\" in June 2012. The moment became one of the deadliest shootings in U.S. history. Holmes is accused of opening fire on the crowd, killing 12 people and injuring or maiming 70 others in Aurora, a suburb of Denver. Holmes appeared like a comic book character: He resembled the Joker, with red-orange hair, similar to the late actor Heath Ledger\\'s portrayal of the villain in an earlier Batman movie, authorities said. But Holmes was hardly a cartoon. Authorities said he wore body armor and carried several guns, including an AR-15 rifle, with lots of ammo. He also wore a gas mask. Holmes says he was insane at the time of the shootings, and that is his legal defense and court plea: not guilty by reason of insanity. Prosecutors aren\\'t swayed and will seek the death penalty. Opening statements in his trial are scheduled to begin Monday. Holmes admits to the shootings but says he was suffering \"a psychotic episode\" at the time,  according to court papers filed in July 2013 by the state public defenders, Daniel King and Tamara A. Brady. Evidence \"revealed thus far in the case supports the defense\\'s position that Mr. Holmes suffers from a severe mental illness and was in the throes of a psychotic episode when he committed the acts that resulted in the tragic loss of life and injuries sustained by moviegoers on July 20, 2012,\" the public defenders wrote. Holmes no longer looks like a dazed Joker, as he did in his first appearance before a judge in 2012. He appeared dramatically different in January when jury selection began for his trial: 9,000 potential jurors were summoned for duty, described as one of the nation\\'s largest jury calls. Holmes now has a cleaner look, with a mustache, button-down shirt and khaki pants. In January, he had a beard and eyeglasses. If this new image sounds like one of an academician, it may be because Holmes, now 27, once was one. Just before the shooting, Holmes was a doctoral student in neuroscience, and he was studying how the brain works, with his schooling funded by a U.S. government grant. Yet for all his learning, Holmes apparently lacked the capacity to command his own mind, according to the case against him. A jury will ultimately decide Holmes\\' fate. That panel is made up of 12 jurors and 12 alternates. They are 19 women and five men, and almost all are white and middle-aged. The trial could last until autumn. When jury summonses were issued in January, each potential juror stood a 0.2% chance of being selected, District Attorney George Brauchler told the final jury this month. He described the approaching trial as \"four to five months of a horrible roller coaster through the worst haunted house you can imagine.\" The jury will have to render verdicts on each of the 165 counts against Holmes, including murder and attempted murder charges. Meanwhile, victims and their relatives are challenging all media outlets \"to stop the gratuitous use of the name and likeness of mass killers, thereby depriving violent individuals the media celebrity and media spotlight they so crave,\" the No Notoriety group says. They are joined by victims from eight other mass shootings in recent U.S. history. Raised in central coastal California and in San Diego, James Eagan Holmes is the son of a mathematician father noted for his work at the FICO firm that provides credit scores and a registered nurse mother, according to the U-T San Diego newspaper. Holmes also has a sister, Chris, a musician, who\\'s five years younger, the newspaper said. His childhood classmates remember him as a clean-cut, bespectacled boy with an \"exemplary\" character who \"never gave any trouble, and never got in trouble himself,\" The Salinas Californian reported. His family then moved down the California coast, where Holmes grew up in the San Diego-area neighborhood of Rancho Peñasquitos, which a neighbor described as \"kind of like Mayberry,\" the San Diego newspaper said. Holmes attended Westview High School, which says its school district sits in \"a primarily middle- to upper-middle-income residential community.\" There, Holmes ran cross-country, played soccer and later worked at a biotechnology internship at the Salk Institute and Miramar College, which attracts academically talented students. By then, his peers described him as standoffish and a bit of a wiseacre, the San Diego newspaper said. Holmes attended college fairly close to home, in a neighboring area known as Southern California\\'s \"inland empire\" because it\\'s more than an hour\\'s drive from the coast, in a warm, low-desert climate. He entered the University of California, Riverside, in 2006 as a scholarship student. In 2008 he was a summer camp counselor for disadvantaged children, age 7 to 14, at Camp Max Straus, run by Jewish Big Brothers Big Sisters of Los Angeles. He graduated from UC Riverside in 2010 with the highest honors and a bachelor\\'s degree in neuroscience. \"Academically, he was at the top of the top,\" Chancellor Timothy P. White said. He seemed destined for even higher achievement. By 2011, he had enrolled as a doctoral student in the neuroscience program at the University of Colorado Anschutz Medical Campus in Aurora, the largest academic health center in the Rocky Mountain region. The doctoral in neuroscience program attended by Holmes focuses on how the brain works, with an emphasis on processing of information, behavior, learning and memory. Holmes was one of six pre-thesis Ph.D. students in the program who were awarded a neuroscience training grant from the National Institutes of Health. The grant rewards outstanding neuroscientists who will make major contributions to neurobiology. A syllabus that listed Holmes as a student at the medical school shows he was to have delivered a presentation about microRNA biomarkers. But Holmes struggled, and his own mental health took an ominous turn. In March 2012, he told a classmate he wanted to kill people, and that he would do so \"when his life was over,\" court documents said. Holmes was \"denied access to the school after June 12, 2012, after he made threats to a professor,\" according to court documents. About that time, Holmes was a patient of University of Colorado psychiatrist Lynne Fenton. Fenton was so concerned about Holmes\\' behavior that she mentioned it to her colleagues, saying he could be a danger to others, CNN affiliate KMGH-TV reported, citing sources with knowledge of the investigation. Fenton\\'s concerns surfaced in early June, sources told the Denver station. Holmes began to fantasize about killing \"a lot of people\" in early June, nearly six weeks before the shootings, the station reported, citing unidentified sources familiar with the investigation. Holmes\\' psychiatrist contacted several members of a \"behavioral evaluation and threat assessment\" team to say Holmes could be a danger to others, the station reported. At issue was whether to order Holmes held for 72 hours to be evaluated by mental health professionals, the station reported. \"Fenton made initial phone calls about engaging the BETA team\" in \"the first 10 days\" of June, but it \"never came together\" because in the period Fenton was having conversations with team members, Holmes began the process of dropping out of school, a source told KMGH. Defense attorneys have rejected the prosecution\\'s assertions that Holmes was barred from campus. Citing statements from the university, Holmes\\' attorneys have argued that his access was revoked because that\\'s normal procedure when a student drops enrollment. What caused this turn for the worse for Holmes has yet to be clearly detailed. In the months before the shooting, he bought four weapons and more than 6,000 rounds of ammunition, authorities said. Police said he also booby-trapped his third-floor apartment with explosives, but police weren\\'t fooled. After Holmes was caught in the cinema parking lot immediately after the shooting, bomb technicians went to the apartment and neutralized the explosives. No one was injured at the apartment building. Nine minutes before Holmes went into the movie theater, he called a University of Colorado switchboard, public defender Brady has said in court. The number he called can be used to get in contact with faculty members during off hours, Brady said. Court documents have also revealed that investigators have obtained text messages that Holmes exchanged with someone before the shooting. That person was not named, and the content of the texts has not been made public. According to The New York Times, Holmes sent a text message to a fellow graduate student, a woman, about two weeks before the shooting. She asked if he had left Aurora yet, reported the newspaper, which didn\\'t identify her. No, he had two months left on his lease, Holmes wrote back, according to the Times. He asked if she had heard of \"dysphoric mania,\" a form of bipolar disorder marked by the highs of mania and the dark and sometimes paranoid delusions of major depression. The woman asked if the disorder could be managed with treatment. \"It was,\" Holmes wrote her, according to the Times. But he warned she should stay away from him \"because I am bad news,\" the newspaper reported. It was her last contact with Holmes. After the shooting, Holmes\\' family issued a brief statement: \"Our hearts go out to those who were involved in this tragedy and to the families and friends of those involved,\" they said, without giving any information about their son. Since then, prosecutors have refused to offer a plea deal to Holmes. For Holmes, \"justice is death,\" said Brauchler, the district attorney. In December, Holmes\\' parents, who will be attending the trial, issued another statement: They asked that their son\\'s life be spared and that he be sent to an institution for mentally ill people for the rest of his life, if he\\'s found not guilty by reason of insanity. \"He is not a monster,\" Robert and Arlene Holmes wrote, saying the death penalty is \"morally wrong, especially when the condemned is mentally ill.\" \"He is a human being gripped by a severe mental illness,\" the parents said. The matter will be settled by the jury. CNN\\'s Ana Cabrera and Sara Weisfeldt contributed to this report from Denver.\"\"\""
   ]
  },
  {
   "cell_type": "code",
   "execution_count": 19,
   "metadata": {},
   "outputs": [
    {
     "name": "stderr",
     "output_type": "stream",
     "text": [
      "Setting `pad_token_id` to `eos_token_id`:2 for open-end generation.\n"
     ]
    },
    {
     "data": {
      "text/plain": [
       "'James Holmes, 27, is accused of opening fire on a Colorado theater.\\nHe was a doctoral student at University of Colorado.\\nHolmes says he was suffering \"a psychotic episode\" at the time of the shooting.\\nProsecutors won\\'t say whether Holmes was barred from campus.'"
      ]
     },
     "execution_count": 19,
     "metadata": {},
     "output_type": "execute_result"
    }
   ],
   "source": [
    "longformer.summarize(long_article)"
   ]
  },
  {
   "cell_type": "code",
   "execution_count": 20,
   "metadata": {},
   "outputs": [
    {
     "name": "stdout",
     "output_type": "stream",
     "text": [
      "LONGFORMER is a abstractive, non-neural model for summarization. \n",
      " #################### \n",
      " A Longformer2Roberta model finetuned on summarization. \n",
      "Strengths: \n",
      " - Correctly handles longer (> 2000 tokens) corpus \n",
      " Weaknesses: \n",
      " - Fine-tuned on CNN-DM dataset \n",
      " Initialization arguments: \n",
      " - `corpus`: Unlabelled corpus of documents. ` \n",
      " \n"
     ]
    }
   ],
   "source": [
    "longformer.show_capability()"
   ]
  },
  {
   "cell_type": "markdown",
   "metadata": {},
   "source": [
    "# Evaluation"
   ]
  },
  {
   "cell_type": "code",
   "execution_count": 16,
   "metadata": {
    "pycharm": {
     "is_executing": false
    }
   },
   "outputs": [
    {
     "name": "stderr",
     "output_type": "stream",
     "text": [
      "2021-05-26 00:21:32,268 [MainThread  ] [INFO ]  Set ROUGE home directory to /Users/ansongni/anaconda3/envs/st/lib/python3.7/site-packages/summ_eval/ROUGE-1.5.5/.\n",
      "2021-05-26 00:22:43,771 [MainThread  ] [INFO ]  Writing summaries.\n",
      "2021-05-26 00:22:43,778 [MainThread  ] [INFO ]  Processing summaries. Saving system files to /var/folders/sj/9yj3djlx7wl_wnrjcbd3ss040000gn/T/tmp1tk0dnfn/system and model files to /var/folders/sj/9yj3djlx7wl_wnrjcbd3ss040000gn/T/tmp1tk0dnfn/model.\n",
      "2021-05-26 00:22:43,780 [MainThread  ] [INFO ]  Processing files in /var/folders/sj/9yj3djlx7wl_wnrjcbd3ss040000gn/T/tmpj_qejsku.\n",
      "2021-05-26 00:22:43,781 [MainThread  ] [INFO ]  Processing system.1.txt.\n",
      "2021-05-26 00:22:43,784 [MainThread  ] [INFO ]  Processing system.0.txt.\n",
      "2021-05-26 00:22:43,785 [MainThread  ] [INFO ]  Processing system.2.txt.\n",
      "2021-05-26 00:22:43,786 [MainThread  ] [INFO ]  Processing system.3.txt.\n",
      "2021-05-26 00:22:43,788 [MainThread  ] [INFO ]  Processing system.4.txt.\n",
      "2021-05-26 00:22:43,789 [MainThread  ] [INFO ]  Saved processed files to /var/folders/sj/9yj3djlx7wl_wnrjcbd3ss040000gn/T/tmp1tk0dnfn/system.\n",
      "2021-05-26 00:22:43,789 [MainThread  ] [INFO ]  Processing files in /var/folders/sj/9yj3djlx7wl_wnrjcbd3ss040000gn/T/tmptsgclp6y.\n",
      "2021-05-26 00:22:43,790 [MainThread  ] [INFO ]  Processing model.A.4.txt.\n",
      "2021-05-26 00:22:43,791 [MainThread  ] [INFO ]  Processing model.A.0.txt.\n",
      "2021-05-26 00:22:43,792 [MainThread  ] [INFO ]  Processing model.A.1.txt.\n",
      "2021-05-26 00:22:43,793 [MainThread  ] [INFO ]  Processing model.A.3.txt.\n",
      "2021-05-26 00:22:43,795 [MainThread  ] [INFO ]  Processing model.A.2.txt.\n",
      "2021-05-26 00:22:43,796 [MainThread  ] [INFO ]  Saved processed files to /var/folders/sj/9yj3djlx7wl_wnrjcbd3ss040000gn/T/tmp1tk0dnfn/model.\n",
      "2021-05-26 00:22:43,801 [MainThread  ] [INFO ]  Written ROUGE configuration to /var/folders/sj/9yj3djlx7wl_wnrjcbd3ss040000gn/T/tmpkte6jh8_/rouge_conf.xml\n",
      "2021-05-26 00:22:43,801 [MainThread  ] [INFO ]  Running ROUGE with command /Users/ansongni/anaconda3/envs/st/lib/python3.7/site-packages/summ_eval/ROUGE-1.5.5/ROUGE-1.5.5.pl -e /Users/ansongni/anaconda3/envs/st/lib/python3.7/site-packages/summ_eval/ROUGE-1.5.5/data -c 95 -2 -1 -U -r 1000 -n 4 -w 1.2 -a -m /var/folders/sj/9yj3djlx7wl_wnrjcbd3ss040000gn/T/tmpkte6jh8_/rouge_conf.xml\n"
     ]
    },
    {
     "ename": "CalledProcessError",
     "evalue": "Command '['/Users/ansongni/anaconda3/envs/st/lib/python3.7/site-packages/summ_eval/ROUGE-1.5.5/ROUGE-1.5.5.pl', '-e', '/Users/ansongni/anaconda3/envs/st/lib/python3.7/site-packages/summ_eval/ROUGE-1.5.5/data', '-c', '95', '-2', '-1', '-U', '-r', '1000', '-n', '4', '-w', '1.2', '-a', '-m', '/var/folders/sj/9yj3djlx7wl_wnrjcbd3ss040000gn/T/tmpkte6jh8_/rouge_conf.xml']' returned non-zero exit status 79.",
     "output_type": "error",
     "traceback": [
      "\u001b[0;31m---------------------------------------------------------------------------\u001b[0m",
      "\u001b[0;31mCalledProcessError\u001b[0m                        Traceback (most recent call last)",
      "\u001b[0;32m<ipython-input-16-b69f8ed3cf43>\u001b[0m in \u001b[0;36m<module>\u001b[0;34m\u001b[0m\n\u001b[1;32m      4\u001b[0m \u001b[0;31m# Evaluates model on subset of cnn_dailymail\u001b[0m\u001b[0;34m\u001b[0m\u001b[0;34m\u001b[0m\u001b[0;34m\u001b[0m\u001b[0m\n\u001b[1;32m      5\u001b[0m \u001b[0;31m# Stores various versions of rouge as an object variable\u001b[0m\u001b[0;34m\u001b[0m\u001b[0;34m\u001b[0m\u001b[0;34m\u001b[0m\u001b[0m\n\u001b[0;32m----> 6\u001b[0;31m \u001b[0mmetric\u001b[0m\u001b[0;34m.\u001b[0m\u001b[0mevaluate\u001b[0m\u001b[0;34m(\u001b[0m\u001b[0mmodel\u001b[0m\u001b[0;34m,\u001b[0m \u001b[0mcnn_dataset\u001b[0m\u001b[0;34m[\u001b[0m\u001b[0;34m'test'\u001b[0m\u001b[0;34m]\u001b[0m\u001b[0;34m[\u001b[0m\u001b[0;36m0\u001b[0m\u001b[0;34m:\u001b[0m\u001b[0;36m5\u001b[0m\u001b[0;34m]\u001b[0m\u001b[0;34m)\u001b[0m\u001b[0;34m;\u001b[0m\u001b[0;34m\u001b[0m\u001b[0;34m\u001b[0m\u001b[0m\n\u001b[0m\u001b[1;32m      7\u001b[0m \u001b[0;34m\u001b[0m\u001b[0m\n",
      "\u001b[0;32m~/Code/SummerTime/eval/rouge.py\u001b[0m in \u001b[0;36mevaluate\u001b[0;34m(self, model, data)\u001b[0m\n\u001b[1;32m     11\u001b[0m         \u001b[0mpredictions\u001b[0m \u001b[0;34m=\u001b[0m \u001b[0mmodel\u001b[0m\u001b[0;34m.\u001b[0m\u001b[0msummarize\u001b[0m\u001b[0;34m(\u001b[0m\u001b[0mdata\u001b[0m\u001b[0;34m[\u001b[0m\u001b[0;34m'article'\u001b[0m\u001b[0;34m]\u001b[0m\u001b[0;34m)\u001b[0m\u001b[0;34m\u001b[0m\u001b[0;34m\u001b[0m\u001b[0m\n\u001b[1;32m     12\u001b[0m         self.score_dict = self.se_rouge.evaluate_batch(predictions,\n\u001b[0;32m---> 13\u001b[0;31m             data['highlights'])\n\u001b[0m\u001b[1;32m     14\u001b[0m \u001b[0;34m\u001b[0m\u001b[0m\n\u001b[1;32m     15\u001b[0m     \u001b[0;32mdef\u001b[0m \u001b[0mget_dict\u001b[0m\u001b[0;34m(\u001b[0m\u001b[0mself\u001b[0m\u001b[0;34m,\u001b[0m \u001b[0mkeys\u001b[0m\u001b[0;34m)\u001b[0m\u001b[0;34m:\u001b[0m\u001b[0;34m\u001b[0m\u001b[0;34m\u001b[0m\u001b[0m\n",
      "\u001b[0;32m~/anaconda3/envs/st/lib/python3.7/site-packages/summ_eval/rouge_metric.py\u001b[0m in \u001b[0;36mevaluate_batch\u001b[0;34m(self, summaries, references, aggregate)\u001b[0m\n\u001b[1;32m     75\u001b[0m             \u001b[0moutput\u001b[0m \u001b[0;34m=\u001b[0m \u001b[0mself\u001b[0m\u001b[0;34m.\u001b[0m\u001b[0mr\u001b[0m\u001b[0;34m.\u001b[0m\u001b[0mconvert_and_evaluate\u001b[0m\u001b[0;34m(\u001b[0m\u001b[0mrouge_args\u001b[0m\u001b[0;34m=\u001b[0m\u001b[0;34mf\"-e {self.r.data_dir} \"\u001b[0m \u001b[0;34m+\u001b[0m \u001b[0mself\u001b[0m\u001b[0;34m.\u001b[0m\u001b[0mr\u001b[0m\u001b[0;34m.\u001b[0m\u001b[0margs\u001b[0m\u001b[0;34m)\u001b[0m\u001b[0;34m\u001b[0m\u001b[0;34m\u001b[0m\u001b[0m\n\u001b[1;32m     76\u001b[0m         \u001b[0;32melse\u001b[0m\u001b[0;34m:\u001b[0m\u001b[0;34m\u001b[0m\u001b[0;34m\u001b[0m\u001b[0m\n\u001b[0;32m---> 77\u001b[0;31m             \u001b[0moutput\u001b[0m \u001b[0;34m=\u001b[0m \u001b[0mself\u001b[0m\u001b[0;34m.\u001b[0m\u001b[0mr\u001b[0m\u001b[0;34m.\u001b[0m\u001b[0mconvert_and_evaluate\u001b[0m\u001b[0;34m(\u001b[0m\u001b[0;34m)\u001b[0m\u001b[0;34m\u001b[0m\u001b[0;34m\u001b[0m\u001b[0m\n\u001b[0m\u001b[1;32m     78\u001b[0m         \u001b[0moutput_dict\u001b[0m \u001b[0;34m=\u001b[0m \u001b[0mself\u001b[0m\u001b[0;34m.\u001b[0m\u001b[0mr\u001b[0m\u001b[0;34m.\u001b[0m\u001b[0moutput_to_dict\u001b[0m\u001b[0;34m(\u001b[0m\u001b[0moutput\u001b[0m\u001b[0;34m)\u001b[0m\u001b[0;34m\u001b[0m\u001b[0;34m\u001b[0m\u001b[0m\n\u001b[1;32m     79\u001b[0m         \u001b[0mshutil\u001b[0m\u001b[0;34m.\u001b[0m\u001b[0mrmtree\u001b[0m\u001b[0;34m(\u001b[0m\u001b[0mself\u001b[0m\u001b[0;34m.\u001b[0m\u001b[0mr\u001b[0m\u001b[0;34m.\u001b[0m\u001b[0msystem_dir\u001b[0m\u001b[0;34m)\u001b[0m\u001b[0;34m\u001b[0m\u001b[0;34m\u001b[0m\u001b[0m\n",
      "\u001b[0;32m~/anaconda3/envs/st/lib/python3.7/site-packages/pyrouge/Rouge155.py\u001b[0m in \u001b[0;36mconvert_and_evaluate\u001b[0;34m(self, system_id, split_sentences, rouge_args)\u001b[0m\n\u001b[1;32m    359\u001b[0m             \u001b[0mself\u001b[0m\u001b[0;34m.\u001b[0m\u001b[0msplit_sentences\u001b[0m\u001b[0;34m(\u001b[0m\u001b[0;34m)\u001b[0m\u001b[0;34m\u001b[0m\u001b[0;34m\u001b[0m\u001b[0m\n\u001b[1;32m    360\u001b[0m         \u001b[0mself\u001b[0m\u001b[0;34m.\u001b[0m\u001b[0m__write_summaries\u001b[0m\u001b[0;34m(\u001b[0m\u001b[0;34m)\u001b[0m\u001b[0;34m\u001b[0m\u001b[0;34m\u001b[0m\u001b[0m\n\u001b[0;32m--> 361\u001b[0;31m         \u001b[0mrouge_output\u001b[0m \u001b[0;34m=\u001b[0m \u001b[0mself\u001b[0m\u001b[0;34m.\u001b[0m\u001b[0mevaluate\u001b[0m\u001b[0;34m(\u001b[0m\u001b[0msystem_id\u001b[0m\u001b[0;34m,\u001b[0m \u001b[0mrouge_args\u001b[0m\u001b[0;34m)\u001b[0m\u001b[0;34m\u001b[0m\u001b[0;34m\u001b[0m\u001b[0m\n\u001b[0m\u001b[1;32m    362\u001b[0m         \u001b[0;32mreturn\u001b[0m \u001b[0mrouge_output\u001b[0m\u001b[0;34m\u001b[0m\u001b[0;34m\u001b[0m\u001b[0m\n\u001b[1;32m    363\u001b[0m \u001b[0;34m\u001b[0m\u001b[0m\n",
      "\u001b[0;32m~/anaconda3/envs/st/lib/python3.7/site-packages/pyrouge/Rouge155.py\u001b[0m in \u001b[0;36mevaluate\u001b[0;34m(self, system_id, rouge_args)\u001b[0m\n\u001b[1;32m    334\u001b[0m         self.log.info(\n\u001b[1;32m    335\u001b[0m             \"Running ROUGE with command {}\".format(\" \".join(command)))\n\u001b[0;32m--> 336\u001b[0;31m         \u001b[0mrouge_output\u001b[0m \u001b[0;34m=\u001b[0m \u001b[0mcheck_output\u001b[0m\u001b[0;34m(\u001b[0m\u001b[0mcommand\u001b[0m\u001b[0;34m)\u001b[0m\u001b[0;34m.\u001b[0m\u001b[0mdecode\u001b[0m\u001b[0;34m(\u001b[0m\u001b[0;34m\"UTF-8\"\u001b[0m\u001b[0;34m)\u001b[0m\u001b[0;34m\u001b[0m\u001b[0;34m\u001b[0m\u001b[0m\n\u001b[0m\u001b[1;32m    337\u001b[0m         \u001b[0;32mreturn\u001b[0m \u001b[0mrouge_output\u001b[0m\u001b[0;34m\u001b[0m\u001b[0;34m\u001b[0m\u001b[0m\n\u001b[1;32m    338\u001b[0m \u001b[0;34m\u001b[0m\u001b[0m\n",
      "\u001b[0;32m~/anaconda3/envs/st/lib/python3.7/subprocess.py\u001b[0m in \u001b[0;36mcheck_output\u001b[0;34m(timeout, *popenargs, **kwargs)\u001b[0m\n\u001b[1;32m    409\u001b[0m \u001b[0;34m\u001b[0m\u001b[0m\n\u001b[1;32m    410\u001b[0m     return run(*popenargs, stdout=PIPE, timeout=timeout, check=True,\n\u001b[0;32m--> 411\u001b[0;31m                **kwargs).stdout\n\u001b[0m\u001b[1;32m    412\u001b[0m \u001b[0;34m\u001b[0m\u001b[0m\n\u001b[1;32m    413\u001b[0m \u001b[0;34m\u001b[0m\u001b[0m\n",
      "\u001b[0;32m~/anaconda3/envs/st/lib/python3.7/subprocess.py\u001b[0m in \u001b[0;36mrun\u001b[0;34m(input, capture_output, timeout, check, *popenargs, **kwargs)\u001b[0m\n\u001b[1;32m    510\u001b[0m         \u001b[0;32mif\u001b[0m \u001b[0mcheck\u001b[0m \u001b[0;32mand\u001b[0m \u001b[0mretcode\u001b[0m\u001b[0;34m:\u001b[0m\u001b[0;34m\u001b[0m\u001b[0;34m\u001b[0m\u001b[0m\n\u001b[1;32m    511\u001b[0m             raise CalledProcessError(retcode, process.args,\n\u001b[0;32m--> 512\u001b[0;31m                                      output=stdout, stderr=stderr)\n\u001b[0m\u001b[1;32m    513\u001b[0m     \u001b[0;32mreturn\u001b[0m \u001b[0mCompletedProcess\u001b[0m\u001b[0;34m(\u001b[0m\u001b[0mprocess\u001b[0m\u001b[0;34m.\u001b[0m\u001b[0margs\u001b[0m\u001b[0;34m,\u001b[0m \u001b[0mretcode\u001b[0m\u001b[0;34m,\u001b[0m \u001b[0mstdout\u001b[0m\u001b[0;34m,\u001b[0m \u001b[0mstderr\u001b[0m\u001b[0;34m)\u001b[0m\u001b[0;34m\u001b[0m\u001b[0;34m\u001b[0m\u001b[0m\n\u001b[1;32m    514\u001b[0m \u001b[0;34m\u001b[0m\u001b[0m\n",
      "\u001b[0;31mCalledProcessError\u001b[0m: Command '['/Users/ansongni/anaconda3/envs/st/lib/python3.7/site-packages/summ_eval/ROUGE-1.5.5/ROUGE-1.5.5.pl', '-e', '/Users/ansongni/anaconda3/envs/st/lib/python3.7/site-packages/summ_eval/ROUGE-1.5.5/data', '-c', '95', '-2', '-1', '-U', '-r', '1000', '-n', '4', '-w', '1.2', '-a', '-m', '/var/folders/sj/9yj3djlx7wl_wnrjcbd3ss040000gn/T/tmpkte6jh8_/rouge_conf.xml']' returned non-zero exit status 79."
     ]
    }
   ],
   "source": [
    "# Initializes a rouge metric object\n",
    "metric = st_eval.Rouge()\n",
    "\n",
    "# Evaluates model on subset of cnn_dailymail\n",
    "# Stores various versions of rouge as an object variable\n",
    "batch = cnn_dataset['test'][0:5]\n",
    "\n",
    "summaries = model.summarize(batch['articles'])\n",
    "targets = batch['highlights']\n",
    "\n",
    "metric.evaluate(summaries, targets)"
   ]
  },
  {
   "cell_type": "code",
   "execution_count": 16,
   "metadata": {},
   "outputs": [
    {
     "data": {
      "text/plain": [
       "{'rouge_1_f_score': 0.3299,\n",
       " 'rouge_2_f_score': 0.20966,\n",
       " 'rouge_l_f_score': 0.31402}"
      ]
     },
     "execution_count": 16,
     "metadata": {},
     "output_type": "execute_result"
    }
   ],
   "source": [
    "# Retrieve rouge f-scores. \n",
    "metric.get_dict(['rouge_1_f_score', 'rouge_2_f_score', 'rouge_l_f_score'])"
   ]
  },
  {
   "cell_type": "code",
   "execution_count": null,
   "metadata": {},
   "outputs": [],
   "source": []
  }
 ],
 "metadata": {
  "kernelspec": {
   "display_name": "Python 3",
   "language": "python",
   "name": "python3"
  },
  "language_info": {
   "codemirror_mode": {
    "name": "ipython",
    "version": 3
   },
   "file_extension": ".py",
   "mimetype": "text/x-python",
   "name": "python",
   "nbconvert_exporter": "python",
   "pygments_lexer": "ipython3",
   "version": "3.9.1"
  },
  "pycharm": {
   "stem_cell": {
    "cell_type": "raw",
    "metadata": {
     "collapsed": false
    },
    "source": []
   }
  }
 },
 "nbformat": 4,
 "nbformat_minor": 4
}
